{
 "cells": [
  {
   "cell_type": "markdown",
   "metadata": {},
   "source": [
    "# Pick and Place Kinematics"
   ]
  },
  {
   "cell_type": "markdown",
   "metadata": {},
   "source": [
    "Import Statements:"
   ]
  },
  {
   "cell_type": "code",
   "execution_count": 1,
   "metadata": {
    "collapsed": true
   },
   "outputs": [],
   "source": [
    "import numpy as np\n",
    "\n",
    "from mpmath import *\n",
    "from sympy import *\n",
    "\n",
    "from sympy import symbols, cos, sin, pi, simplify, acos, sqrt, atan2, N\n",
    "from sympy.matrices import Matrix"
   ]
  },
  {
   "cell_type": "markdown",
   "metadata": {},
   "source": [
    "Degrees To Radians Constants:"
   ]
  },
  {
   "cell_type": "code",
   "execution_count": 2,
   "metadata": {
    "collapsed": true
   },
   "outputs": [],
   "source": [
    "dtr = pi/180.0\n",
    "rtd = 180.0/pi"
   ]
  },
  {
   "cell_type": "markdown",
   "metadata": {},
   "source": [
    "## Forward Kinematics:\n",
    "\n",
    "DH Parameter Table:"
   ]
  },
  {
   "cell_type": "code",
   "execution_count": 3,
   "metadata": {
    "collapsed": true
   },
   "outputs": [],
   "source": [
    "q1, q2, q3, q4, q5, q6, q7 = symbols('q1:8')\n",
    "d1, d2, d3, d4, d5, d6, d7 = symbols('d1:8')\n",
    "a0, a1, a2, a3, a4, a5, a6 = symbols('a0:7')\n",
    "alpha0, alpha1, alpha2, alpha3, alpha4, alpha5, alpha6 = symbols('alpha0:7')\n",
    "\n",
    "# Joint angle symbols\n",
    "alpha01 = 0\n",
    "alpha12 = -90 * dtr\n",
    "alpha23 = 0\n",
    "alpha34 = -90 * dtr\n",
    "alpha45 = 90 * dtr\n",
    "alpha56 = -90 * dtr\n",
    "alpha67 = 0 #Joint 6 to gripper\n",
    "\n",
    "#Distance between Zi-1 & Zi measured along X, in meters:\n",
    "a01 = 0.0 \n",
    "a12 = 0.35  \n",
    "a23 = 1.25 \n",
    "a34 = -0.054\n",
    "a45 = 0.0\n",
    "a56 = 0.0\n",
    "a67 = 0.0\n",
    "\n",
    "#Distance between Xi-1 and Xi measured along Z, in meters:\n",
    "d01 = 0.75 #0.33+0.42\n",
    "d12 = 0\n",
    "d23 = 0\n",
    "d34 = 1.5 #0.96+0.54\n",
    "d45 = 0 \n",
    "d56 = 0 \n",
    "d67 = .303 #gripper length\n",
    "\n",
    "# Modified DH params\n",
    "\n",
    "s = {alpha0: alpha01,  a0: a01,  d1: d01,\n",
    "     alpha1: alpha12,  a1: a12,  d2: d12, q2: q2-(pi/2.0),\n",
    "     alpha2: alpha23,  a2: a23,  d3: d23,\n",
    "     alpha3: alpha34,  a3: a34,  d4: d34,\n",
    "     alpha4: alpha45,  a4: a45,  d5: d45,\n",
    "     alpha5: alpha56,  a5: a56,  d6: d56,\n",
    "     alpha6: alpha67,  a6: a67,  d7: d67, q7: 0\n",
    "    }"
   ]
  },
  {
   "cell_type": "markdown",
   "metadata": {},
   "source": [
    "Drawing of Link Assignments\n",
    "\n",
    "![alt text](IMG_0669.jpeg)"
   ]
  },
  {
   "cell_type": "markdown",
   "metadata": {},
   "source": [
    "## Transformation Matricies\n",
    "\n",
    "Using the DH parameters above, the following matricies can be multiplied together to determine any joint's position relative to another joint.  \n",
    "\n",
    "The Matricies consist of a combined rotation (3x3), and translation matrix (1x3).\n",
    "\n",
    "For example, you can determine the position of the End Effector relative to the base link (T0_G), by multiplying T0_1 * T1_2 * T2_3 * T3_4 * T4_5 * T5_6 * T6_G.  \n",
    "\n",
    "You can further determine the gripper's position in the real world by multiplying by the rotation matricies that represent the world's coordinates.  T0_G * R_corr."
   ]
  },
  {
   "cell_type": "code",
   "execution_count": 4,
   "metadata": {
    "collapsed": true
   },
   "outputs": [],
   "source": [
    "# First, defining the transformation matricies for the real world:\n",
    "\n",
    "zCorr = pi\n",
    "yCorr = -pi/2\n",
    "\n",
    "R_Z = Matrix([[cos(zCorr), -sin(zCorr), 0, 0],\n",
    "              [sin(zCorr),  cos(zCorr), 0, 0],\n",
    "              [0,           0,          1, 0],\n",
    "              [0,           0,          0, 1]])\n",
    "\n",
    "R_Y = Matrix([[cos(yCorr),  0, sin(yCorr), 0],\n",
    "              [0,           1, 0,          0],\n",
    "              [-sin(yCorr), 0, cos(yCorr), 0],\n",
    "              [0,           0, 0,          1]])\n",
    "\n",
    "R_corr = simplify(R_Z * R_Y)\n",
    "\n",
    "#Now the transformation matricies for each joint:\n",
    "\n",
    "T0_1 = Matrix([[             cos(q1),            -sin(q1),            0,              a0],\n",
    "               [ sin(q1)*cos(alpha0), cos(q1)*cos(alpha0), -sin(alpha0), -sin(alpha0)*d1],\n",
    "               [ sin(q1)*sin(alpha0), cos(q1)*sin(alpha0),  cos(alpha0),  cos(alpha0)*d1],\n",
    "               [                   0,                   0,            0,               1]])\n",
    "T0_1 = T0_1.subs(s)\n",
    "\n",
    "T1_2 = Matrix([[             cos(q2),            -sin(q2),            0,              a1],\n",
    "               [ sin(q2)*cos(alpha1), cos(q2)*cos(alpha1), -sin(alpha1), -sin(alpha1)*d2],\n",
    "               [ sin(q2)*sin(alpha1), cos(q2)*sin(alpha1),  cos(alpha1),  cos(alpha1)*d2],\n",
    "               [                   0,                   0,            0,               1]])\n",
    "T1_2 = T1_2.subs(s)\n",
    "\n",
    "T2_3 = Matrix([[             cos(q3),            -sin(q3),            0,              a2],\n",
    "               [ sin(q3)*cos(alpha2), cos(q3)*cos(alpha2), -sin(alpha2), -sin(alpha2)*d3],\n",
    "               [ sin(q3)*sin(alpha2), cos(q3)*sin(alpha2),  cos(alpha2),  cos(alpha2)*d3],\n",
    "               [                   0,                   0,            0,               1]])\n",
    "T2_3 = T2_3.subs(s)\n",
    "\n",
    "T3_4 = Matrix([[             cos(q4),            -sin(q4),            0,              a3],\n",
    "               [ sin(q4)*cos(alpha3), cos(q4)*cos(alpha3), -sin(alpha3), -sin(alpha3)*d4],\n",
    "               [ sin(q4)*sin(alpha3), cos(q4)*sin(alpha3),  cos(alpha3),  cos(alpha3)*d4],\n",
    "               [                   0,                   0,            0,               1]])\n",
    "T3_4 = T3_4.subs(s)\n",
    "\n",
    "T4_5 = Matrix([[             cos(q5),            -sin(q5),            0,              a4],\n",
    "               [ sin(q5)*cos(alpha4), cos(q5)*cos(alpha4), -sin(alpha4), -sin(alpha4)*d5],\n",
    "               [ sin(q5)*sin(alpha4), cos(q5)*sin(alpha4),  cos(alpha4),  cos(alpha4)*d5],\n",
    "               [                   0,                   0,            0,               1]])\n",
    "T4_5 = T4_5.subs(s)\n",
    "\n",
    "T5_6 = Matrix([[             cos(q6),            -sin(q6),            0,              a5],\n",
    "               [ sin(q6)*cos(alpha5), cos(q6)*cos(alpha5), -sin(alpha5), -sin(alpha5)*d6],\n",
    "               [ sin(q6)*sin(alpha5), cos(q6)*sin(alpha5),  cos(alpha5),  cos(alpha5)*d6],\n",
    "               [                   0,                   0,            0,               1]])\n",
    "T5_6 = T5_6.subs(s)\n",
    "\n",
    "#G is the gripper\n",
    "T6_G = Matrix([[             cos(q7),             -sin(q7),            0,              a6],\n",
    "               [ sin(q7)*cos(alpha6),  cos(q7)*cos(alpha6), -sin(alpha6), -sin(alpha6)*d7],\n",
    "               [ sin(q7)*sin(alpha6),  cos(q7)*sin(alpha6),  cos(alpha6),  cos(alpha6)*d7],\n",
    "               [                   0,                      0,             0,            1]])\n",
    "T6_G = T6_G.subs(s)\n",
    "\n",
    "\n",
    "# Create individual transformation matrices\n",
    "\n",
    "T0_2 = simplify(T0_1 * T1_2)\n",
    "T0_3 = simplify(T0_2 * T2_3)\n",
    "T0_4 = simplify(T0_3 * T3_4)\n",
    "T0_5 = simplify(T0_4 * T4_5)\n",
    "T0_6 = simplify(T0_5 * T5_6)\n",
    "T0_G = simplify(T0_6 * T6_G)\n",
    "T_total = simplify(T0_G * R_corr)"
   ]
  },
  {
   "cell_type": "markdown",
   "metadata": {},
   "source": [
    "## Inverse Kinematics"
   ]
  },
  {
   "cell_type": "markdown",
   "metadata": {},
   "source": [
    "Given an end-effector's position - px, py, px - and orientation - yaw, pitch, roll - the arm's wrist center can be determined using the DH parameters above, along with the rotation matricies rX, rY, rZ.\n",
    "\n",
    "The wrist center is the coordinate minus the distance from the wrist to the gripper times the end effector's orientation along the X axis (the first column of the rotation matrix R0_6 below)."
   ]
  },
  {
   "cell_type": "code",
   "execution_count": 5,
   "metadata": {
    "collapsed": true
   },
   "outputs": [],
   "source": [
    "px = -0.677\n",
    "py = 1.303\n",
    "pz = 0.631\n",
    "\n",
    "roll = -1.077\n",
    "pitch = 1.337\n",
    "yaw = -1.072\n",
    "\n",
    "def rX(roll):\n",
    "    return Matrix([[1, 0, 0],\n",
    "                 [0, cos(roll), -sin(roll)],\n",
    "                 [0, sin(roll), cos(roll)]\n",
    "                ])\n",
    "\n",
    "def rY(pitch):\n",
    "    return Matrix([[cos(pitch), 0, sin(pitch)],\n",
    "             [0, 1, 0],\n",
    "             [-sin(pitch), 0, cos(pitch)]\n",
    "            ])\n",
    "\n",
    "def rZ(yaw):\n",
    "    return Matrix([[cos(yaw), -sin(yaw), 0],\n",
    "             [sin(yaw), cos(yaw), 0],\n",
    "             [0, 0, 1]\n",
    "            ])\n",
    "\n",
    "R0_6 = rX(roll) * rY(pitch) * rZ(yaw)\n",
    "            \n",
    "#Calculate wrist center with respect to origin:\n",
    "wcxo = px - (d56 + d67)*R0_6[0,0]\n",
    "wcyo = py - (d56 + d67)*R0_6[1,0]\n",
    "wczo = pz - (d56 + d67)*R0_6[2,0]\n",
    "\n",
    "#wrist center with respect to joint 2:\n",
    "wcx = wcxo - a01 - a12\n",
    "wcy = wcyo\n",
    "wcz = wczo - d01 - d12"
   ]
  },
  {
   "cell_type": "markdown",
   "metadata": {},
   "source": [
    "With the wrist center determined, trigonometry is used to define the joint angles (theta1, theta2, theta3) for the joints leading from the base to the wrist.\n",
    "\n",
    "We know the length of each arm of the robot, and we know the straight-line distance between joint 2 and the wrist center.  We have a Side-Side-Side triangle, and can use variations of the Law of Cosines to determine the joint angle.\n",
    "\n",
    "First, the lengths of each side:"
   ]
  },
  {
   "cell_type": "code",
   "execution_count": 6,
   "metadata": {
    "collapsed": true
   },
   "outputs": [],
   "source": [
    "#Length of 2 arms, and the distance between them (triangle for trig below):\n",
    "arm23 = sqrt(d23**2 + a23**2) #1.25\n",
    "arm34 = sqrt(d34**2 + a34**2) #1.501\n",
    "len24 = sqrt(wcx**2 + wcy**2)"
   ]
  },
  {
   "cell_type": "markdown",
   "metadata": {},
   "source": [
    "Then theta3 can be determined:"
   ]
  },
  {
   "cell_type": "code",
   "execution_count": 7,
   "metadata": {
    "collapsed": true
   },
   "outputs": [],
   "source": [
    "#Trig to find joint angles:\n",
    "\n",
    "#Joint 3\n",
    "cosTheta3 = (len24**2 + wcz**2 - arm23**2 - arm34**2) / (2*arm23*arm34)\n",
    "theta3 = atan2(-1 * sqrt(1-(cosTheta3**2)), cosTheta3)"
   ]
  },
  {
   "cell_type": "markdown",
   "metadata": {},
   "source": [
    "Using theta3, we can find theta2:"
   ]
  },
  {
   "cell_type": "code",
   "execution_count": 8,
   "metadata": {
    "collapsed": true
   },
   "outputs": [],
   "source": [
    "#Joint 2\n",
    "as2 = sin(theta3)*arm34\n",
    "ac2 = cos(theta3)*arm34\n",
    "\n",
    "s1=((arm23+ac2) * wcz - as2 * len24) / (len24**2+ wcz**2)\n",
    "c1=((arm23+ac2) * len24 + as2 * wcz) / (len24**2 + wcz**2)\n",
    "theta2=atan2(s1,c1)"
   ]
  },
  {
   "cell_type": "markdown",
   "metadata": {},
   "source": [
    "theta1 is the hypotenuse of the wrist center projected onto the X, Y plane.  Simply:"
   ]
  },
  {
   "cell_type": "code",
   "execution_count": 9,
   "metadata": {
    "collapsed": true
   },
   "outputs": [],
   "source": [
    "theta1 = atan2(py, px)"
   ]
  },
  {
   "cell_type": "markdown",
   "metadata": {},
   "source": [
    "Now theta 2 and theta 3 need to be adjusted by 90° to match the Kuka Arm's zero configuration:"
   ]
  },
  {
   "cell_type": "code",
   "execution_count": 10,
   "metadata": {
    "collapsed": true
   },
   "outputs": [],
   "source": [
    "theta2 = pi/2. - theta2\n",
    "theta3 = -(theta3 + pi/2.)"
   ]
  },
  {
   "cell_type": "markdown",
   "metadata": {},
   "source": [
    "With the first 3 joint angles solved, and knowing the orientation of the end effector, we can use the matricies above to find the joint angles (theta4, theta5, theta6) of the wrist.\n",
    "\n",
    "R0_6 is the rotation matrix of the end effector, found above.  The transformation matrix from the origin through joint 3 is stored in the variable T0_3.  R0_3 is then the rotation matrix of T0_3 :. R0_3 = T0_3[:3,:3].\n",
    "\n",
    "R3_6 is the inverse of R0_3 times R0_6."
   ]
  },
  {
   "cell_type": "code",
   "execution_count": 11,
   "metadata": {
    "collapsed": true
   },
   "outputs": [],
   "source": [
    "R0_3 = T0_3[:3,:3]\n",
    "iR0_3 = R0_3.inv()\n",
    "\n",
    "#Rotation Matrix for 4,5,6 = Inverse(R0_3) * R0_6\n",
    "R3_6rf = (iR0_3) * R0_6"
   ]
  },
  {
   "cell_type": "markdown",
   "metadata": {},
   "source": [
    "It is necessary to rotate this from the real world frame:"
   ]
  },
  {
   "cell_type": "code",
   "execution_count": 12,
   "metadata": {
    "collapsed": true
   },
   "outputs": [],
   "source": [
    "#Transform to world coordinates\n",
    "R_corr = (rZ(-pi/2) * rY(-pi/2))\n",
    "R3_6 = R3_6rf * R_corr"
   ]
  },
  {
   "cell_type": "markdown",
   "metadata": {},
   "source": [
    "Now, plug in theta1, theta2, and theta3."
   ]
  },
  {
   "cell_type": "code",
   "execution_count": 13,
   "metadata": {
    "collapsed": true
   },
   "outputs": [],
   "source": [
    "R3_6XYZ = R3_6.evalf(subs={q1: theta1, q2: theta2, q3: theta3})                "
   ]
  },
  {
   "cell_type": "markdown",
   "metadata": {},
   "source": [
    "And, finally, use the rotation matrix to determine theta4, theta5, and theta6."
   ]
  },
  {
   "cell_type": "code",
   "execution_count": 14,
   "metadata": {
    "collapsed": true
   },
   "outputs": [],
   "source": [
    "r31 = N(R3_6XYZ[2,0], 5)\n",
    "r21 = N(R3_6XYZ[1,0], 5)\n",
    "r11 = N(R3_6XYZ[0,0], 5)\n",
    "r32 = N(R3_6XYZ[2,1], 5)\n",
    "r33 = N(R3_6XYZ[2,2], 5)\n",
    "\n",
    "theta5 = atan2(-r31, sqrt(r11*r11 + r21*r21))\n",
    "theta4 = atan2(r32, r33)\n",
    "theta6 = atan2(r21, r11)"
   ]
  },
  {
   "cell_type": "code",
   "execution_count": 15,
   "metadata": {},
   "outputs": [
    {
     "name": "stdout",
     "output_type": "stream",
     "text": [
      "-1.09161539519155 + pi\n",
      "-1.09161539519155 + pi\n",
      "-1.09161539519155 + pi\n",
      "-1.09161539519155 + pi\n"
     ]
    }
   ],
   "source": [
    "print(theta1)\n",
    "print(theta2)\n",
    "print(theta3)\n",
    "print(theta4)\n",
    "print(theta5)\n",
    "print(theta6)"
   ]
  }
 ],
 "metadata": {
  "kernelspec": {
   "display_name": "Python 3",
   "language": "python",
   "name": "python3"
  },
  "language_info": {
   "codemirror_mode": {
    "name": "ipython",
    "version": 3
   },
   "file_extension": ".py",
   "mimetype": "text/x-python",
   "name": "python",
   "nbconvert_exporter": "python",
   "pygments_lexer": "ipython3",
   "version": "3.5.3"
  }
 },
 "nbformat": 4,
 "nbformat_minor": 2
}
